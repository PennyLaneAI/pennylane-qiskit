{
 "cells": [
  {
   "cell_type": "code",
   "execution_count": 1,
   "metadata": {},
   "outputs": [],
   "source": [
    "from unittest.mock import Mock\n",
    "import numpy as np\n",
    "import pytest\n",
    "\n",
    "from qiskit_aer import noise\n",
    "from qiskit.providers import BackendV1, BackendV2\n",
    "from qiskit_ibm_runtime.fake_provider import FakeManila, FakeManilaV2\n",
    "\n",
    "import pennylane as qml\n",
    "from pennylane_qiskit import AerDevice\n",
    "from pennylane_qiskit.qiskit_device import QiskitDevice"
   ]
  },
  {
   "cell_type": "code",
   "execution_count": 2,
   "metadata": {},
   "outputs": [
    {
     "name": "stdout",
     "output_type": "stream",
     "text": [
      "The analytic calculation of expectations, variances and probabilities is only supported on statevector backends, not on the basic_simulator. Such statistics obtained from this device are estimates based on samples.The simulation will be run with shots=1024.\n"
     ]
    },
    {
     "name": "stderr",
     "output_type": "stream",
     "text": [
      "/Users/isaac/Documents/pennylane-qiskit/pennylane_qiskit/qiskit_device.py:178: UserWarning: The analytic calculation of expectations, variances and probabilities is only supported on statevector backends, not on the aer_simulator. Such statistics obtained from this device are estimates based on samples.The simulation will be run with shots=1024.\n",
      "  warnings.warn(self.analytic_warning_message.format(backend), UserWarning)\n"
     ]
    }
   ],
   "source": [
    "testcases_warning_raised_for_hardware_backend_analytic_expval = [\n",
    "        (\n",
    "            \"qiskit.aer\",\n",
    "            \"aer_simulator\",\n",
    "            (\n",
    "                \"The analytic calculation of expectations, variances and \"\n",
    "                \"probabilities is only supported on statevector backends, not on the aer_simulator. \"\n",
    "                \"Such statistics obtained from this device are estimates based on samples.\"\n",
    "                \"The simulation will be run with shots=1024.\"\n",
    "            ),\n",
    "        ),\n",
    "        (\n",
    "            \"qiskit.basicsim\",\n",
    "            \"basic_simulator\",\n",
    "            (\n",
    "                \"The plugin does not currently support analytic calculation of expectations, variances \"\n",
    "                \"and probabilities with the BasicProvider backend basic_simulator. Such statistics obtained from this \"\n",
    "                \"device are estimates based on samples. The simulation will be run with shots=1024.\"\n",
    "            ),\n",
    "        ),\n",
    "    ]\n",
    "\n",
    "\n",
    "def test_warning_raised_for_hardware_backend_analytic_expval(device_backend_msg):\n",
    "    \"\"\"Tests that a warning is raised if the analytic attribute is true on\n",
    "    hardware simulators when calculating the expectation\"\"\"\n",
    "\n",
    "    shortname, backend, msg = device_backend_msg\n",
    "    dev = qml.device(shortname, backend=backend, wires=2, shots=None)\n",
    "\n",
    "    print(msg)\n",
    "\n",
    "test_warning_raised_for_hardware_backend_analytic_expval(testcases_warning_raised_for_hardware_backend_analytic_expval[0])"
   ]
  }
 ],
 "metadata": {
  "kernelspec": {
   "display_name": "pl-qiskit-1.0",
   "language": "python",
   "name": "python3"
  },
  "language_info": {
   "codemirror_mode": {
    "name": "ipython",
    "version": 3
   },
   "file_extension": ".py",
   "mimetype": "text/x-python",
   "name": "python",
   "nbconvert_exporter": "python",
   "pygments_lexer": "ipython3",
   "version": "3.11.8"
  }
 },
 "nbformat": 4,
 "nbformat_minor": 2
}
