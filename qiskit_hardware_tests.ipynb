{
 "cells": [
  {
   "cell_type": "code",
   "execution_count": 1,
   "id": "f1af2830-a609-49ec-a0df-36a22e20cfde",
   "metadata": {},
   "outputs": [
    {
     "name": "stdout",
     "output_type": "stream",
     "text": [
      "current environment does not have jax installed\n"
     ]
    }
   ],
   "source": [
    "import pennylane as qml\n",
    "import numpy as np\n",
    "from pennylane import numpy as pnp\n",
    "import matplotlib.pyplot as plt\n",
    "try:\n",
    "    from jax import numpy as jnp\n",
    "    import jax\n",
    "    jax.config.update(\"jax_enable_x64\", True)\n",
    "except ImportError:\n",
    "    print(\"current environment does not have jax installed\")"
   ]
  },
  {
   "cell_type": "code",
   "execution_count": 2,
   "id": "1d644a5b-2a43-452b-8b66-141ea4ebf787",
   "metadata": {},
   "outputs": [],
   "source": [
    "from qiskit_ibm_provider import IBMProvider"
   ]
  },
  {
   "cell_type": "code",
   "execution_count": 3,
   "id": "b86e28c3-58f8-4ee4-8bf0-89cebbec54dc",
   "metadata": {},
   "outputs": [],
   "source": [
    "from qiskit_ibm_runtime import QiskitRuntimeService, Session, Options\n",
    "\n",
    "service = QiskitRuntimeService(channel=\"ibm_quantum\")"
   ]
  },
  {
   "cell_type": "markdown",
   "id": "89db7e24-038d-416e-97d3-d76b680f0cf4",
   "metadata": {},
   "source": [
    "## Testing IBMQ"
   ]
  },
  {
   "cell_type": "code",
   "execution_count": 4,
   "id": "badc8af1-5016-4cf3-a773-aeb10ee922da",
   "metadata": {},
   "outputs": [
    {
     "name": "stdout",
     "output_type": "stream",
     "text": [
      "RUNNING ON SIMULATOR\n"
     ]
    }
   ],
   "source": [
    "import pennylane as qml\n",
    "from pennylane_qiskit.qiskit_device2 import QiskitDevice2\n",
    "\n",
    "use_simulator = True\n",
    "\n",
    "if use_simulator:\n",
    "    backend = service.backend(\"ibmq_qasm_simulator\")\n",
    "    dev = QiskitDevice2(wires=2, backend=backend, use_primitives=True)\n",
    "\n",
    "    print(\"RUNNING ON SIMULATOR\")\n",
    "else:\n",
    "    backend = service.least_busy(simulator=False, operational=True)\n",
    "    dev = QiskitDevice2(wires=2, backend=backend, use_primitives=True)\n",
    "    \n",
    "    print(f\"Running on {backend.name}\")\n",
    "    \n",
    "session = Session(backend=backend)"
   ]
  },
  {
   "cell_type": "code",
   "execution_count": 6,
   "id": "9d08942a-572b-4f20-aa56-cc49cab2854e",
   "metadata": {},
   "outputs": [
    {
     "data": {
      "text/plain": [
       "(tensor(1., requires_grad=True),)"
      ]
     },
     "execution_count": 6,
     "metadata": {},
     "output_type": "execute_result"
    }
   ],
   "source": [
    "@qml.qnode(dev)\n",
    "def circuit(x):\n",
    "    qml.sum(qml.PauliY(1), qml.PauliZ(0)),\n",
    "    return qml.expval(qml.PauliZ(0))\n",
    "\n",
    "circuit(np.pi/2)"
   ]
  },
  {
   "cell_type": "markdown",
   "id": "64127cf6",
   "metadata": {},
   "source": []
  },
  {
   "cell_type": "code",
   "execution_count": 14,
   "id": "38cce91b-e3e4-41e5-a076-0541e207f309",
   "metadata": {},
   "outputs": [],
   "source": [
    "@qml.qnode(dev)\n",
    "def circuit_batched(x, y):\n",
    "    qml.RX([x, y], wires=[0])\n",
    "    qml.CNOT(wires=[0, 1])\n",
    "    return qml.expval(qml.PauliZ(1)), qml.probs(), qml.var(qml.PauliZ(0)), qml.expval(qml.PauliY(0)), qml.sample()\n",
    "\n",
    "@qml.qnode(dev)\n",
    "def circuit(x):\n",
    "    qml.RX(x, wires=[0])\n",
    "    qml.CNOT(wires=[0, 1])\n",
    "    return qml.expval(qml.PauliZ(1))\n",
    "\n",
    "@qml.qnode(dev)\n",
    "def circuit_counts(x):\n",
    "    qml.RX(x, wires=[0])\n",
    "    qml.CNOT(wires=[0, 1])\n",
    "    return qml.counts()"
   ]
  },
  {
   "cell_type": "code",
   "execution_count": 15,
   "id": "61eb8e7e-b244-4ba8-ac41-af98e5c407dc",
   "metadata": {},
   "outputs": [
    {
     "data": {
      "text/plain": [
       "(array([0.99609375, 0.37109375]),\n",
       " array([{3: 0.001953125, 0: 0.998046875}, {0: 0.6875, 3: 0.3125}],\n",
       "       dtype=object),\n",
       " array([0.01556396, 0.85345459]),\n",
       " array([ 0.00195312, -0.02539062]),\n",
       " array([[[1, 1],\n",
       "         [1, 1],\n",
       "         [1, 1],\n",
       "         ...,\n",
       "         [0, 0],\n",
       "         [0, 0],\n",
       "         [0, 0]],\n",
       " \n",
       "        [[1, 1],\n",
       "         [1, 1],\n",
       "         [1, 1],\n",
       "         ...,\n",
       "         [0, 0],\n",
       "         [0, 0],\n",
       "         [0, 0]]]))"
      ]
     },
     "execution_count": 15,
     "metadata": {},
     "output_type": "execute_result"
    }
   ],
   "source": [
    "circuit_batched(0.1, 1.2)"
   ]
  },
  {
   "cell_type": "code",
   "execution_count": 16,
   "id": "74581bdc-7a1f-44d4-b224-c20107f28249",
   "metadata": {},
   "outputs": [
    {
     "data": {
      "text/plain": [
       "(array([ 0.99414062, -1.        ]),\n",
       " array([{3: 0.0009765625, 0: 0.9990234375}, {3: 1.0}], dtype=object),\n",
       " array([0.01556396, 0.        ]),\n",
       " array([0.015625  , 0.03515625]),\n",
       " array([[[1, 1],\n",
       "         [1, 1],\n",
       "         [1, 1],\n",
       "         ...,\n",
       "         [0, 0],\n",
       "         [0, 0],\n",
       "         [0, 0]],\n",
       " \n",
       "        [[1, 1],\n",
       "         [1, 1],\n",
       "         [1, 1],\n",
       "         ...,\n",
       "         [1, 1],\n",
       "         [1, 1],\n",
       "         [1, 1]]]))"
      ]
     },
     "execution_count": 16,
     "metadata": {},
     "output_type": "execute_result"
    }
   ],
   "source": [
    "circuit_batched(0.1, np.pi)"
   ]
  },
  {
   "cell_type": "code",
   "execution_count": 19,
   "id": "fd97b88f-f970-44c0-89a9-5f1fd96f1960",
   "metadata": {},
   "outputs": [
    {
     "name": "stdout",
     "output_type": "stream",
     "text": [
      "0.994140625\n",
      "0.8203125\n",
      "0.458984375\n",
      "-0.0234375\n",
      "({'00': 507, '11': 517},)\n"
     ]
    },
    {
     "data": {
      "text/plain": [
       "(3, 1.6, -0.0234375)"
      ]
     },
     "execution_count": 19,
     "metadata": {},
     "output_type": "execute_result"
    }
   ],
   "source": [
    "from pennylane_qiskit.qiskit_device2 import qiskit_session\n",
    "\n",
    "angle = 0.1\n",
    "i = 0\n",
    "\n",
    "with qiskit_session(dev) as session:\n",
    "    \n",
    "    res = circuit(angle)[0]\n",
    "    print(res)\n",
    "\n",
    "    while res > 0:\n",
    "        angle += 0.5\n",
    "        i += 1\n",
    "        res = circuit(angle)[0]\n",
    "        print(res)\n",
    "        \n",
    "    print(circuit_counts(angle))\n",
    "        \n",
    "i, angle, res"
   ]
  },
  {
   "cell_type": "code",
   "execution_count": null,
   "id": "f736afa0-aa1c-4764-bf04-3ba538cbdceb",
   "metadata": {},
   "outputs": [],
   "source": []
  },
  {
   "cell_type": "markdown",
   "id": "60fa8ece-8c08-4119-9da9-0876a5e7e636",
   "metadata": {
    "tags": []
   },
   "source": [
    "## Testing Runtime devices directly in Qiskit for debugging"
   ]
  },
  {
   "cell_type": "code",
   "execution_count": null,
   "id": "e145b39a-9c66-4704-8f57-bcf5dd8ab2c0",
   "metadata": {},
   "outputs": [],
   "source": [
    "from qiskit import QuantumCircuit\n",
    "\n",
    "# define circuit\n",
    "def circuit(x):\n",
    "    qc = QuantumCircuit(2, 2)\n",
    "    qc.rx(x, 0)\n",
    "    qc.cx(0, 1)\n",
    "    qc.measure(1, 0)\n",
    "    return qc\n",
    "\n",
    "qc = circuit(1.2)\n",
    "qc.draw('text')"
   ]
  },
  {
   "cell_type": "code",
   "execution_count": null,
   "id": "dec0cc05-f85d-442b-8dd0-3d71c1e289dc",
   "metadata": {},
   "outputs": [],
   "source": [
    "from qiskit_ibm_runtime import Sampler\n",
    "\n",
    "res = []\n",
    "\n",
    "with Session(backend=backend, max_time=\"1m\"):\n",
    "    sampler = Sampler()\n",
    "\n",
    "    for qc in [circuit(0.1), circuit(np.pi/2)]:\n",
    "        result = sampler.run(qc).result()\n",
    "        res.append(result.quasi_dists[0])"
   ]
  },
  {
   "cell_type": "code",
   "execution_count": null,
   "id": "667b48ee-73e2-40fa-b0cf-c5f5bfdfacb1",
   "metadata": {},
   "outputs": [],
   "source": [
    "from qiskit.primitives import Estimator\n",
    "\n",
    "estimator = Estimator()\n",
    "estimator.run?"
   ]
  },
  {
   "cell_type": "code",
   "execution_count": null,
   "id": "b9a47594-ed6d-4f5f-9aa0-6ea005abdb34",
   "metadata": {},
   "outputs": [],
   "source": []
  }
 ],
 "metadata": {
  "kernelspec": {
   "display_name": "Python 3 (ipykernel)",
   "language": "python",
   "name": "python3"
  },
  "language_info": {
   "codemirror_mode": {
    "name": "ipython",
    "version": 3
   },
   "file_extension": ".py",
   "mimetype": "text/x-python",
   "name": "python",
   "nbconvert_exporter": "python",
   "pygments_lexer": "ipython3",
   "version": "3.12.2"
  }
 },
 "nbformat": 4,
 "nbformat_minor": 5
}
